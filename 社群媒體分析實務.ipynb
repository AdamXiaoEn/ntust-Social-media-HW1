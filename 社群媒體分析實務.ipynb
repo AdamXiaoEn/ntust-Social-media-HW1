{
 "cells": [
  {
   "cell_type": "code",
   "execution_count": 54,
   "metadata": {
    "collapsed": false
   },
   "outputs": [
    {
     "name": "stdout",
     "output_type": "stream",
     "text": [
      "Twitters : 83\n",
      "Tweets : 1421\n"
     ]
    }
   ],
   "source": [
    "import pyes\n",
    "import pandas as pd\n",
    "import elasticsearch\n",
    "import os\n",
    "import numpy as np\n",
    "import time\n",
    "\n",
    "es_address='192.168.1.112:9200'\n",
    "conn = pyes.es.ES(es_address) #create\n",
    "bq = pyes.query.BoolQuery() #結合很多時間範圍的query\n",
    "#q = pyes.query.MatchAllQuery()\n",
    "\n",
    "tq = pyes.query.TermQuery(field=\"text\", value=\"cve\") #找出想要的term出來\n",
    "tq1 = pyes.query.TermQuery(field=\"text\", value=\"vulnerability\")\n",
    "tq2 = pyes.query.TermQuery(field=\"text\", value=\"exploit\")\n",
    "\n",
    "ESR = pyes.ESRange(field=\"created_at\", from_value=\"Wed Jan 01 00:00:00 +0000 2014\", to_value=\"Wed Dec 31 23:59:59 +0000 2014\", \n",
    "                   include_lower=True ,include_upper=True) #抓range\n",
    "rq = pyes.query.RangeQuery(qrange=ESR)\n",
    "\n",
    "bq.add_should(tq) #must = AND, 將tq rq抓進來, 將成立的條件加進來\n",
    "bq.add_should(tq1)\n",
    "bq.add_should(tq2)\n",
    "bq.add_must(rq)\n",
    "\n",
    "result = conn.search(query=bq , indices='twitter2' , doc_types='tweet') \n",
    "\n",
    "\n",
    "Twitters = []\n",
    "Tweets = []\n",
    "Url = []\n",
    "Dates = []\n",
    "\n",
    "#取有需要的資料\n",
    "for i in result:\n",
    "    Twitters.append(i['user']['name'])\n",
    "    Tweets.append(i['text'])\n",
    "    Url.append(i['entities']['urls'])\n",
    "    Dates.append(int(time.strftime('%m', time.strptime(i['created_at'],'%a %b %d %H:%M:%S +0000 %Y'))))\n",
    "\n",
    "Twitter = np.unique(Twitters)\n",
    "\n",
    "print 'Twitters :',len(Twitter) #Twitters\n",
    "print 'Tweets :',len(result) #Tweets"
   ]
  },
  {
   "cell_type": "code",
   "execution_count": 55,
   "metadata": {
    "collapsed": false
   },
   "outputs": [
    {
     "data": {
      "image/png": "[encoded data removed]",
      "text/plain": [
       "<matplotlib.figure.Figure at 0x7f50cbafc050>"
      ]
     },
     "metadata": {},
     "output_type": "display_data"
    },
    {
     "data": {
      "image/png": "[encoded data removed]",
      "text/plain": [
       "<matplotlib.figure.Figure at 0x7f508e3ace90>"
      ]
     },
     "metadata": {},
     "output_type": "display_data"
    }
   ],
   "source": [
    "%matplotlib inline\n",
    "\n",
    "import matplotlib.pyplot as plt\n",
    "import seaborn as sb\n",
    "\n",
    "Month_tweet = pd.DataFrame({'Tweet':pd.Series(Tweets), 'Month':pd.Series(Dates)}) #tweets and months\n",
    "\n",
    "Month_twitter = pd.DataFrame({'Twitter':pd.Series(Twitters), 'Month':pd.Series(Dates)}) #twitters and months\n",
    "Month_twitter = Month_twitter.drop_duplicates() #同月重複的twitter刪掉\n",
    "\n",
    "ax = np.arange(0,13,0.5)\n",
    "#twitters(12 month)\n",
    "Month_twitter['Month'].hist(bins = ax)\n",
    "plt.xlabel('month')\n",
    "plt.ylabel('twitters')\n",
    "plt.show()\n",
    "\n",
    "#tweets(12 month)\n",
    "Month_tweet['Month'].hist(bins = ax)\n",
    "plt.xlabel('month')\n",
    "plt.ylabel('tweets')\n",
    "plt.show()"
   ]
  },
  {
   "cell_type": "code",
   "execution_count": 57,
   "metadata": {
    "collapsed": false
   },
   "outputs": [
    {
     "name": "stdout",
     "output_type": "stream",
     "text": [
      "url : 1198  no_url : 223\n"
     ]
    },
    {
     "data": {
      "image/png": "[encoded data removed]",
      "text/plain": [
       "<matplotlib.figure.Figure at 0x7f508e3f7c50>"
      ]
     },
     "metadata": {},
     "output_type": "display_data"
    }
   ],
   "source": [
    "url = 0\n",
    "\n",
    "#找有多少個有url\n",
    "for url1 in Url:\n",
    "    for url2 in url1:\n",
    "        url += 1\n",
    "        \n",
    "no_url = len(Url) - url\n",
    "\n",
    "print 'url :',url,' no_url :',no_url\n",
    "\n",
    "#set parameters\n",
    "sizes = [no_url, url]\n",
    "colors = ['red','gold']\n",
    "labels = 'NO_url','Url'\n",
    "explode = (0.1,0)\n",
    "\n",
    "plt.pie(sizes, colors = colors, explode = explode, labels = labels, autopct = '%1.1f%%', shadow = False, startangle = 90)\n",
    "plt.axis('equal')\n",
    "plt.legend()\n",
    "\n",
    "plt.show()"
   ]
  },
  {
   "cell_type": "code",
   "execution_count": 66,
   "metadata": {
    "collapsed": false
   },
   "outputs": [
    {
     "name": "stderr",
     "output_type": "stream",
     "text": [
      "/opt/conda/lib/python2.7/site-packages/ipykernel/__main__.py:17: FutureWarning: \n",
      "The default value for 'return_type' will change to 'axes' in a future release.\n",
      " To use the future behavior now, set return_type='axes'.\n",
      " To keep the previous behavior and silence this warning, set return_type='dict'.\n"
     ]
    },
    {
     "name": "stdout",
     "output_type": "stream",
     "text": [
      "{'boxes': [<matplotlib.lines.Line2D object at 0x7f508e9b4890>, <matplotlib.lines.Line2D object at 0x7f508e363050>, <matplotlib.lines.Line2D object at 0x7f508e0edd50>, <matplotlib.lines.Line2D object at 0x7f508e3e5e10>, <matplotlib.lines.Line2D object at 0x7f508e46da50>, <matplotlib.lines.Line2D object at 0x7f50c00a5350>, <matplotlib.lines.Line2D object at 0x7f5090f2f4d0>, <matplotlib.lines.Line2D object at 0x7f508e313590>, <matplotlib.lines.Line2D object at 0x7f508e47ead0>, <matplotlib.lines.Line2D object at 0x7f508e868090>, <matplotlib.lines.Line2D object at 0x7f508e8d8e90>, <matplotlib.lines.Line2D object at 0x7f508e7a7450>], 'fliers': [<matplotlib.lines.Line2D object at 0x7f508e363890>, <matplotlib.lines.Line2D object at 0x7f508e3f0d10>, <matplotlib.lines.Line2D object at 0x7f508e6a4290>, <matplotlib.lines.Line2D object at 0x7f508e46d890>, <matplotlib.lines.Line2D object at 0x7f5090fe3c10>, <matplotlib.lines.Line2D object at 0x7f5090f2f310>, <matplotlib.lines.Line2D object at 0x7f508e4f97d0>, <matplotlib.lines.Line2D object at 0x7f508e58bd90>, <matplotlib.lines.Line2D object at 0x7f508e7c4d90>, <matplotlib.lines.Line2D object at 0x7f508e8a3b50>, <matplotlib.lines.Line2D object at 0x7f508e84fb10>, <matplotlib.lines.Line2D object at 0x7f508e8fe950>], 'medians': [<matplotlib.lines.Line2D object at 0x7f508e57dcd0>, <matplotlib.lines.Line2D object at 0x7f508e3f0cd0>, <matplotlib.lines.Line2D object at 0x7f508e6a4590>, <matplotlib.lines.Line2D object at 0x7f509b7b3c90>, <matplotlib.lines.Line2D object at 0x7f5090fe3b10>, <matplotlib.lines.Line2D object at 0x7f508e0d2b50>, <matplotlib.lines.Line2D object at 0x7f508e593090>, <matplotlib.lines.Line2D object at 0x7f508e58b250>, <matplotlib.lines.Line2D object at 0x7f509b840d50>, <matplotlib.lines.Line2D object at 0x7f508e8a3090>, <matplotlib.lines.Line2D object at 0x7f508e84fd90>, <matplotlib.lines.Line2D object at 0x7f508e79c950>], 'means': [], 'whiskers': [<matplotlib.lines.Line2D object at 0x7f508e9b4b50>, <matplotlib.lines.Line2D object at 0x7f508e9b41d0>, <matplotlib.lines.Line2D object at 0x7f508e280dd0>, <matplotlib.lines.Line2D object at 0x7f508e280510>, <matplotlib.lines.Line2D object at 0x7f508e0ed810>, <matplotlib.lines.Line2D object at 0x7f508e76a110>, <matplotlib.lines.Line2D object at 0x7f508e3e50d0>, <matplotlib.lines.Line2D object at 0x7f508e773d50>, <matplotlib.lines.Line2D object at 0x7f508e8b9210>, <matplotlib.lines.Line2D object at 0x7f508e9ed990>, <matplotlib.lines.Line2D object at 0x7f508e8ef190>, <matplotlib.lines.Line2D object at 0x7f508e8efcd0>, <matplotlib.lines.Line2D object at 0x7f508e2fef10>, <matplotlib.lines.Line2D object at 0x7f508e2fe1d0>, <matplotlib.lines.Line2D object at 0x7f508e4dac10>, <matplotlib.lines.Line2D object at 0x7f508e570450>, <matplotlib.lines.Line2D object at 0x7f508e47e0d0>, <matplotlib.lines.Line2D object at 0x7f508e47eb10>, <matplotlib.lines.Line2D object at 0x7f508e8685d0>, <matplotlib.lines.Line2D object at 0x7f508e28ef90>, <matplotlib.lines.Line2D object at 0x7f508e883f90>, <matplotlib.lines.Line2D object at 0x7f508e883e10>, <matplotlib.lines.Line2D object at 0x7f508e7a78d0>, <matplotlib.lines.Line2D object at 0x7f5090f0d5d0>], 'caps': [<matplotlib.lines.Line2D object at 0x7f508e57dd10>, <matplotlib.lines.Line2D object at 0x7f508e57d690>, <matplotlib.lines.Line2D object at 0x7f508e75fa10>, <matplotlib.lines.Line2D object at 0x7f508e75f9d0>, <matplotlib.lines.Line2D object at 0x7f508e76a990>, <matplotlib.lines.Line2D object at 0x7f508e6a4190>, <matplotlib.lines.Line2D object at 0x7f508e773550>, <matplotlib.lines.Line2D object at 0x7f509b7b3790>, <matplotlib.lines.Line2D object at 0x7f508e942a90>, <matplotlib.lines.Line2D object at 0x7f508e942710>, <matplotlib.lines.Line2D object at 0x7f508e7fc510>, <matplotlib.lines.Line2D object at 0x7f508e7fc9d0>, <matplotlib.lines.Line2D object at 0x7f508e593410>, <matplotlib.lines.Line2D object at 0x7f508e593e90>, <matplotlib.lines.Line2D object at 0x7f508e570610>, <matplotlib.lines.Line2D object at 0x7f508e570cd0>, <matplotlib.lines.Line2D object at 0x7f50914445d0>, <matplotlib.lines.Line2D object at 0x7f5091444350>, <matplotlib.lines.Line2D object at 0x7f508e28eb10>, <matplotlib.lines.Line2D object at 0x7f508e809450>, <matplotlib.lines.Line2D object at 0x7f508e839ed0>, <matplotlib.lines.Line2D object at 0x7f508e839a90>, <matplotlib.lines.Line2D object at 0x7f5090f0d6d0>, <matplotlib.lines.Line2D object at 0x7f5090f0d750>]}\n"
     ]
    },
    {
     "data": {
      "image/png": "[encoded data removed]",
      "text/plain": [
       "<matplotlib.figure.Figure at 0x7f508e34d690>"
      ]
     },
     "metadata": {},
     "output_type": "display_data"
    }
   ],
   "source": [
    "bq1 = pyes.query.BoolQuery()\n",
    "bq1.add_should(tq)\n",
    "bq1.add_must(rq)\n",
    "\n",
    "result1 = conn.search(query=bq1 , indices='twitter2' , doc_types='tweet')\n",
    "\n",
    "Twitters_cve = []\n",
    "Dates_cve = []\n",
    "\n",
    "for i in result1:\n",
    "    Twitters_cve.append(i['user']['name'])\n",
    "    Dates_cve.append(int(time.strftime('%m', time.strptime(i['created_at'],'%a %b %d %H:%M:%S +0000 %Y'))))\n",
    "\n",
    "CVE = pd.DataFrame({'Twitter_cve':pd.Series(Twitters_cve), 'Month_cve':pd.Series(Dates_cve)})\n",
    "CVE = pd.crosstab(CVE['Twitter_cve'],CVE['Month_cve'])\n",
    "\n",
    "print CVE.boxplot()"
   ]
  },
  {
   "cell_type": "code",
   "execution_count": 64,
   "metadata": {
    "collapsed": false
   },
   "outputs": [
    {
     "name": "stdout",
     "output_type": "stream",
     "text": [
      "ZScaler's Samir Patil explains how the Fiesta exploit kit exploits Java vulnerability CVE-2013-2465 http://t.co/14hsDJTzHh\n"
     ]
    }
   ],
   "source": [
    "bq2 = pyes.query.BoolQuery()\n",
    "\n",
    "tq = pyes.query.TermQuery(field=\"text\", value=\"cve\")\n",
    "tq1 = pyes.query.TermQuery(field=\"text\", value=\"vulnerability\")\n",
    "tq2 = pyes.query.TermQuery(field=\"text\", value=\"exploit\")\n",
    "tq3 = pyes.query.TermQuery(field=\"text\", value=\"vulnerable\")\n",
    "\n",
    "ESR = pyes.ESRange(field=\"created_at\", from_value=\"Wed Jan 01 00:00:00 +0000 2014\", to_value=\"Wed Dec 31 23:59:59 +0000 2014\", \n",
    "                   include_lower=True ,include_upper=True) \n",
    "\n",
    "rq = pyes.query.RangeQuery(qrange=ESR)\n",
    "\n",
    "bq2.add_should(tq)\n",
    "bq2.add_should(tq1)\n",
    "bq2.add_should(tq2)\n",
    "bq2.add_should(tq3)\n",
    "bq2.add_must(rq)\n",
    "\n",
    "result2 = conn.search(query=bq , indices='twitter2' , doc_types='tweet') \n",
    "\n",
    "Twitters2 = []\n",
    "Tweets2 = []\n",
    "\n",
    "#取有需要的資料\n",
    "for i in result2:\n",
    "    Twitters2.append(i['user']['name'])\n",
    "    Tweets2.append(i['text'])"
   ]
  },
  {
   "cell_type": "code",
   "execution_count": null,
   "metadata": {
    "collapsed": false
   },
   "outputs": [],
   "source": []
  },
  {
   "cell_type": "code",
   "execution_count": null,
   "metadata": {
    "collapsed": true
   },
   "outputs": [],
   "source": []
  }
 ],
 "metadata": {
  "kernelspec": {
   "display_name": "Python [Root]",
   "language": "python",
   "name": "Python [Root]"
  },
  "language_info": {
   "codemirror_mode": {
    "name": "ipython",
    "version": 2
   },
   "file_extension": ".py",
   "mimetype": "text/x-python",
   "name": "python",
   "nbconvert_exporter": "python",
   "pygments_lexer": "ipython2",
   "version": "2.7.12"
  }
 },
 "nbformat": 4,
 "nbformat_minor": 0
}
